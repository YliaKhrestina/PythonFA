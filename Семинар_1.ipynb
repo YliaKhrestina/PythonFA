{
  "nbformat": 4,
  "nbformat_minor": 0,
  "metadata": {
    "colab": {
      "provenance": [],
      "toc_visible": true
    },
    "kernelspec": {
      "name": "python3",
      "display_name": "Python 3"
    },
    "language_info": {
      "name": "python"
    }
  },
  "cells": [
    {
      "cell_type": "markdown",
      "source": [
        "# Условие 1\n",
        "\n",
        "На складе лежат разные фрукты в разном количестве.\n",
        "Нужно написать функцию, которая на вход принимает любое количество названий фруктов и их количество, а возвращает общее количество фруктов на складе"
      ],
      "metadata": {
        "id": "AzePmZuXkZgP"
      }
    },
    {
      "cell_type": "code",
      "source": [
        "def total_fruits(*args, **kwargs):\n",
        "    total_count = 0\n",
        "    for fruit, count in kwargs.items():\n",
        "        total_count += count\n",
        "    return total_count\n",
        "\n",
        "# Пример вызова функции\n",
        "fruits_on_stock = {\n",
        "    'apple': 10,\n",
        "    'banana': 5,\n",
        "    'orange': 8,\n",
        "    'kiwi': 3\n",
        "}\n",
        "\n",
        "total = total_fruits(**fruits_on_stock)\n",
        "print(f\"Общее количество фруктов на складе: {total}\")"
      ],
      "metadata": {
        "colab": {
          "base_uri": "https://localhost:8080/"
        },
        "id": "vJ_yVpEklQbL",
        "outputId": "03ae33d8-b62f-426f-cd18-4347d906dfe7"
      },
      "execution_count": 2,
      "outputs": [
        {
          "output_type": "stream",
          "name": "stdout",
          "text": [
            "Общее количество фруктов на складе: 26\n"
          ]
        }
      ]
    },
    {
      "cell_type": "markdown",
      "source": [
        "# Условие 2\n",
        "\n",
        "Дан список с затратами на рекламу. Но в данных есть ошибки, некоторые затраты имеют отрицательную величину. Удалите такие значения из списка и посчитайте суммарные затраты\n",
        "[100, 125, -90, 345, 655, -1, 0, 200]\n",
        "Используйте list comprehensions"
      ],
      "metadata": {
        "id": "rRnEKIp6rF-g"
      }
    },
    {
      "cell_type": "code",
      "source": [
        "expenses = [100, 125, -90, 345, 655, -1, 0, 200]\n",
        "\n",
        "# Удаление отрицательных значений\n",
        "filtered_expenses = [expense for expense in expenses if expense >= 0]\n",
        "\n",
        "# Вычисление суммы затрат\n",
        "total_expenses = sum(filtered_expenses)\n",
        "\n",
        "print(\"Исходные затраты на рекламу:\", expenses)\n",
        "print(\"Отфильтрованные затраты без отрицательных значений:\", filtered_expenses)\n",
        "print(\"Суммарные затраты:\", total_expenses)"
      ],
      "metadata": {
        "colab": {
          "base_uri": "https://localhost:8080/"
        },
        "id": "0g4Xfq6SrkQG",
        "outputId": "962a69e9-f780-4af7-f1d9-ffaf0e78569b"
      },
      "execution_count": 3,
      "outputs": [
        {
          "output_type": "stream",
          "name": "stdout",
          "text": [
            "Исходные затраты на рекламу: [100, 125, -90, 345, 655, -1, 0, 200]\n",
            "Отфильтрованные затраты без отрицательных значений: [100, 125, 345, 655, 0, 200]\n",
            "Суммарные затраты: 1425\n"
          ]
        }
      ]
    },
    {
      "cell_type": "markdown",
      "source": [
        "В этом примере filtered_expenses представляет собой список, полученный с помощью list comprehension, где мы фильтруем только положительные или нулевые значения затрат. Затем, с помощью функции sum, вычисляем сумму затрат в переменной total_expenses."
      ],
      "metadata": {
        "id": "xpYrg4dSr8cW"
      }
    },
    {
      "cell_type": "markdown",
      "source": [
        "#  Условие 3\n",
        "Даны два списка.\n",
        "Дата покупки\n",
        "['2021-09-14', '2021-12-15', '2021-09-08', '2021-12-05', '2021-10-09', '2021-09-30', '2021-12-22', '2021-11-29', '2021-12-24', '2021-11-26', '2021-10-27', '2021-12-18', '2021-11-09', '2021-11-23', '2021-09-27', '2021-10-02', '2021-12-27', '2021-09-20', '2021-12-13', '2021-11-01', '2021-11-09', '2021-12-06', '2021-12-08', '2021-10-09', '2021-10-31', '2021-09-30', '2021-11-09', '2021-12-13', '2021-10-26', '2021-12-09']\n",
        "Суммы покупок по датам\n",
        "[1270, 8413, 9028, 3703, 5739, 4095, 295, 4944, 5723, 3701, 4471, 651, 7037, 4274, 6275, 4988, 6930, 2971, 6592, 2004, 2822, 519, 3406, 2732, 5015, 2008, 316, 6333, 5700, 2887]\n",
        "\n",
        "## Задача 4.1 Найдите, какая выручка у компании в ноябре\n",
        "Используйте list comprehensions\n",
        "## Задача 4.2 Найдите выручку компании в зависимости от месяца\n",
        "Для этого напишите функцию, которая на вход принимает список с датами и список с выручкой, а на выходе словарь, где ключи - это месяцы, а значения - это выручка.\n",
        "Используйте аннотирование типов."
      ],
      "metadata": {
        "id": "QFbWyAgfspEq"
      }
    },
    {
      "cell_type": "code",
      "source": [
        "from typing import List, Dict\n",
        "\n",
        "def calculate_monthly_revenue(dates: List[str], revenue: List[int]) -> Dict[str, int]:\n",
        "    monthly_revenue = {}\n",
        "    for date, amount in zip(dates, revenue):\n",
        "        month = date.split('-')[1]  # Получаем месяц из даты\n",
        "        if month not in monthly_revenue:\n",
        "            monthly_revenue[month] = 0\n",
        "        monthly_revenue[month] += amount\n",
        "    return monthly_revenue\n",
        "\n",
        "purchase_dates = ['2021-09-14', '2021-12-15', '2021-09-08', '2021-12-05', '2021-10-09', '2021-09-30', '2021-12-22', '2021-11-29', '2021-12-24', '2021-11-26', '2021-10-27', '2021-12-18', '2021-11-09', '2021-11-23', '2021-09-27', '2021-10-02', '2021-12-27', '2021-09-20', '2021-12-13', '2021-11-01', '2021-11-09', '2021-12-06', '2021-12-08', '2021-10-09', '2021-10-31', '2021-09-30', '2021-11-09', '2021-12-13', '2021-10-26', '2021-12-09']\n",
        "purchase_amounts = [1270, 8413, 9028, 3703, 5739, 4095, 295, 4944, 5723, 3701, 4471, 651, 7037, 4274, 6275, 4988, 6930, 2971, 6592, 2004, 2822, 519, 3406, 2732, 5015, 2008, 316, 6333, 5700, 2887]\n",
        "\n",
        "# Задача 4.1: Выручка в ноябре\n",
        "november_revenue = sum([amount for date, amount in zip(purchase_dates, purchase_amounts) if date.split('-')[1] == '11'])\n",
        "print(\"Выручка в ноябре:\", november_revenue)\n",
        "\n",
        "# Задача 4.2: Выручка по месяцам\n",
        "monthly_revenue = calculate_monthly_revenue(purchase_dates, purchase_amounts)\n",
        "print(\"Выручка по месяцам:\", monthly_revenue)"
      ],
      "metadata": {
        "colab": {
          "base_uri": "https://localhost:8080/"
        },
        "id": "8RXcBnvqtV7J",
        "outputId": "a2dce208-3a77-4409-bc0e-5a217cf53441"
      },
      "execution_count": 4,
      "outputs": [
        {
          "output_type": "stream",
          "name": "stdout",
          "text": [
            "Выручка в ноябре: 25098\n",
            "Выручка по месяцам: {'09': 25647, '12': 45452, '10': 28645, '11': 25098}\n"
          ]
        }
      ]
    }
  ]
}